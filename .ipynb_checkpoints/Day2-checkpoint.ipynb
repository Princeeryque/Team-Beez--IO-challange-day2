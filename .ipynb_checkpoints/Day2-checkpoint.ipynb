{
 "cells": [
  {
   "cell_type": "code",
   "execution_count": 2,
   "metadata": {},
   "outputs": [],
   "source": [
    "#import pandas\n",
    "import csv"
   ]
  },
  {
   "cell_type": "code",
   "execution_count": 3,
   "metadata": {},
   "outputs": [],
   "source": [
    "#file = open(\"ioday23.csv\",\"w\")"
   ]
  },
  {
   "cell_type": "code",
   "execution_count": 9,
   "metadata": {},
   "outputs": [],
   "source": [
    "with open('iotext.csv','w',newline ='') as f:\n",
    "    fieldnames = ['Student Id#','First Name', 'Last Name','DOB','Address']\n",
    "    document = csv.DictWriter(f,fieldnames = fieldnames)\n",
    "        \n",
    "\n",
    "    document.writeheader()\n",
    "    \n",
    "    document.writerow({'Student Id#': '123', 'First Name': 'Tim','Last Name':'Smith','DOB' : '19960215','Address':'777 Heavens Way'})\n",
    "    document.writerow({'Student Id#': '150', 'First Name': 'Diablo','Last Name':'Ho','DOB' : '19960405','Address':'658 Heavens Way'})\n",
    "    document.writerow({'Student Id#': '999', 'First Name': 'Tom','Last Name':'Doe','DOB' : '19800412','Address':'542 Heavens Way'})\n",
    "    document.writerow({'Student Id#': '100', 'First Name': 'Buffy','Last Name':'Slayer','DOB' : '19600608','Address':'428 Heavens Way'})\n",
    "    document.writerow({'Student Id#': '225', 'First Name': 'Leroi','Last Name':'Jackson','DOB' : '19970402','Address':'358 Heavens Way'})\n",
    "    document.writerow({'Student Id#': '849', 'First Name': 'Bruce','Last Name':'Lee','DOB' : '19910706','Address':'248 Heavens Way'})\n",
    "    document.writerow({'Student Id#': '123', 'First Name': 'Tom','Last Name':'Smith','DOB' : '19740308','Address':'985 Heavens Way'})\n",
    "    document.writerow({'Student Id#': '123', 'First Name': 'Dick','Last Name':'Smith','DOB' : '19950807','Address':'248 Heavens Way'})\n",
    "    document.writerow({'Student Id#': '150', 'First Name': 'Harry','Last Name':'Ho','DOB' : '19961108','Address':'357 Heavens Way'})\n",
    "    document.writerow({'Student Id#': '643', 'First Name': 'Jane','Last Name':'Doe','DOB' : '19870709','Address':'428 Heavens Way'})\n"
   ]
  },
  {
   "cell_type": "code",
   "execution_count": null,
   "metadata": {},
   "outputs": [],
   "source": []
  },
  {
   "cell_type": "code",
   "execution_count": null,
   "metadata": {},
   "outputs": [],
   "source": []
  },
  {
   "cell_type": "code",
   "execution_count": null,
   "metadata": {},
   "outputs": [],
   "source": []
  }
 ],
 "metadata": {
  "kernelspec": {
   "display_name": "Python 3",
   "language": "python",
   "name": "python3"
  },
  "language_info": {
   "codemirror_mode": {
    "name": "ipython",
    "version": 3
   },
   "file_extension": ".py",
   "mimetype": "text/x-python",
   "name": "python",
   "nbconvert_exporter": "python",
   "pygments_lexer": "ipython3",
   "version": "3.7.1"
  }
 },
 "nbformat": 4,
 "nbformat_minor": 2
}
